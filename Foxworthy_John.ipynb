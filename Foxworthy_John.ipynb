{
 "cells": [
  {
   "cell_type": "markdown",
   "metadata": {},
   "source": [
    "# Improving Your Multi-Factor Model with the California Housing Price Dataset\n",
    "\n",
    "#### How do you improve your goodness of fit on your multi-factor model?  Below is a demonstration using the Support Vector Regression (SVR), a contemporary model, with the California Housing dataset, which is an improvement on the classical model of Multiple Linear Regression (MLR).  Data points that are outliers and subsets of data that are linearly inseparable are some of the advantages of SVR can handle over MLR.  \n",
    "\n",
    "#### We first load the native dataset from the sklearn libaries followed by exploratory data analysis.  Split, train, test with all the features and score the goodness of fit.  Thereafter, there is a feature assessment using Variance Inflation Factor (VIF) to remove any redundant features and we repeat the process to improve our score.\n"
   ]
  },
  {
   "cell_type": "code",
   "execution_count": 15,
   "metadata": {},
   "outputs": [],
   "source": [
    "# Required imports\n",
    "import numpy as np\n",
    "import pandas as pd\n",
    "\n",
    "# Data Visualization libary\n",
    "import matplotlib.pyplot as plt\n",
    "import seaborn as sns\n",
    "\n",
    "# Required data science libaries\n",
    "from sklearn import datasets\n",
    "from sklearn import svm\n",
    "from sklearn.model_selection import train_test_split\n",
    "from statsmodels.stats.outliers_influence import variance_inflation_factor\n",
    "\n",
    "# Remove annoying warnings\n",
    "import warnings\n",
    "warnings.filterwarnings(\"ignore\")"
   ]
  },
  {
   "cell_type": "markdown",
   "metadata": {},
   "source": [
    "#### Importing the Dataset"
   ]
  },
  {
   "cell_type": "code",
   "execution_count": 71,
   "metadata": {},
   "outputs": [],
   "source": [
    "from sklearn.datasets.california_housing import fetch_california_housing\n",
    "cal_housing = fetch_california_housing()"
   ]
  },
  {
   "cell_type": "markdown",
   "metadata": {},
   "source": [
    "## Exploratory Data Analysis\n",
    "\n",
    "#### Assign the target variable of the price of housing as y and the feature dataset  as X."
   ]
  },
  {
   "cell_type": "code",
   "execution_count": 3,
   "metadata": {},
   "outputs": [],
   "source": [
    "X, y = cal_housing.data, cal_housing.target\n",
    "\n",
    "names = cal_housing.feature_names"
   ]
  },
  {
   "cell_type": "markdown",
   "metadata": {},
   "source": [
    "#### A description of the California housing dataset can be found here below.\n",
    "\n",
    "http://www.dcc.fc.up.pt/~ltorgo/Regression/cal_housing.html"
   ]
  },
  {
   "cell_type": "code",
   "execution_count": 4,
   "metadata": {},
   "outputs": [
    {
     "data": {
      "text/plain": [
       "(20640, 8)"
      ]
     },
     "execution_count": 4,
     "metadata": {},
     "output_type": "execute_result"
    }
   ],
   "source": [
    "cal_housing.data.shape"
   ]
  },
  {
   "cell_type": "markdown",
   "metadata": {},
   "source": [
    "#### There are 20,640 observations with 8 features."
   ]
  },
  {
   "cell_type": "code",
   "execution_count": 5,
   "metadata": {},
   "outputs": [
    {
     "name": "stdout",
     "output_type": "stream",
     "text": [
      "['MedInc', 'HouseAge', 'AveRooms', 'AveBedrms', 'Population', 'AveOccup', 'Latitude', 'Longitude']\n"
     ]
    }
   ],
   "source": [
    "print(cal_housing.feature_names)"
   ]
  },
  {
   "cell_type": "markdown",
   "metadata": {},
   "source": [
    "#### Assign the variables for analysis"
   ]
  },
  {
   "cell_type": "code",
   "execution_count": 72,
   "metadata": {},
   "outputs": [],
   "source": [
    "df = pd.DataFrame(data=X)\n",
    "\n",
    "MedInc, HouseAge, AveRooms, AveBedrms = df.loc[:, 0], df.loc[:, 1], df.loc[:, 2], df.loc[:, 3]\n",
    "\n",
    "Population, AveOccup, Latitude, Longitude = df.loc[:, 4], df.loc[:, 5], df.loc[:, 6], df.loc[:, 7]"
   ]
  },
  {
   "cell_type": "markdown",
   "metadata": {},
   "source": [
    "#### If we look at the descriptive statistics, then there is good variability across all the features.  "
   ]
  },
  {
   "cell_type": "code",
   "execution_count": 87,
   "metadata": {},
   "outputs": [
    {
     "data": {
      "text/html": [
       "<div>\n",
       "<style scoped>\n",
       "    .dataframe tbody tr th:only-of-type {\n",
       "        vertical-align: middle;\n",
       "    }\n",
       "\n",
       "    .dataframe tbody tr th {\n",
       "        vertical-align: top;\n",
       "    }\n",
       "\n",
       "    .dataframe thead th {\n",
       "        text-align: right;\n",
       "    }\n",
       "</style>\n",
       "<table border=\"1\" class=\"dataframe\">\n",
       "  <thead>\n",
       "    <tr style=\"text-align: right;\">\n",
       "      <th></th>\n",
       "      <th>0</th>\n",
       "      <th>1</th>\n",
       "      <th>2</th>\n",
       "      <th>3</th>\n",
       "      <th>4</th>\n",
       "      <th>5</th>\n",
       "      <th>6</th>\n",
       "      <th>7</th>\n",
       "      <th>Price</th>\n",
       "    </tr>\n",
       "  </thead>\n",
       "  <tbody>\n",
       "    <tr>\n",
       "      <th>count</th>\n",
       "      <td>20,640.00</td>\n",
       "      <td>20,640.00</td>\n",
       "      <td>20,640.00</td>\n",
       "      <td>20,640.00</td>\n",
       "      <td>20,640.00</td>\n",
       "      <td>20,640.00</td>\n",
       "      <td>20,640.00</td>\n",
       "      <td>20,640.00</td>\n",
       "      <td>20,640.00</td>\n",
       "    </tr>\n",
       "    <tr>\n",
       "      <th>mean</th>\n",
       "      <td>3.87</td>\n",
       "      <td>28.64</td>\n",
       "      <td>5.43</td>\n",
       "      <td>1.10</td>\n",
       "      <td>1,425.48</td>\n",
       "      <td>3.07</td>\n",
       "      <td>35.63</td>\n",
       "      <td>-119.57</td>\n",
       "      <td>2.07</td>\n",
       "    </tr>\n",
       "    <tr>\n",
       "      <th>std</th>\n",
       "      <td>1.90</td>\n",
       "      <td>12.59</td>\n",
       "      <td>2.47</td>\n",
       "      <td>0.47</td>\n",
       "      <td>1,132.46</td>\n",
       "      <td>10.39</td>\n",
       "      <td>2.14</td>\n",
       "      <td>2.00</td>\n",
       "      <td>1.15</td>\n",
       "    </tr>\n",
       "    <tr>\n",
       "      <th>min</th>\n",
       "      <td>0.50</td>\n",
       "      <td>1.00</td>\n",
       "      <td>0.85</td>\n",
       "      <td>0.33</td>\n",
       "      <td>3.00</td>\n",
       "      <td>0.69</td>\n",
       "      <td>32.54</td>\n",
       "      <td>-124.35</td>\n",
       "      <td>0.15</td>\n",
       "    </tr>\n",
       "    <tr>\n",
       "      <th>25%</th>\n",
       "      <td>2.56</td>\n",
       "      <td>18.00</td>\n",
       "      <td>4.44</td>\n",
       "      <td>1.01</td>\n",
       "      <td>787.00</td>\n",
       "      <td>2.43</td>\n",
       "      <td>33.93</td>\n",
       "      <td>-121.80</td>\n",
       "      <td>1.20</td>\n",
       "    </tr>\n",
       "    <tr>\n",
       "      <th>50%</th>\n",
       "      <td>3.53</td>\n",
       "      <td>29.00</td>\n",
       "      <td>5.23</td>\n",
       "      <td>1.05</td>\n",
       "      <td>1,166.00</td>\n",
       "      <td>2.82</td>\n",
       "      <td>34.26</td>\n",
       "      <td>-118.49</td>\n",
       "      <td>1.80</td>\n",
       "    </tr>\n",
       "    <tr>\n",
       "      <th>75%</th>\n",
       "      <td>4.74</td>\n",
       "      <td>37.00</td>\n",
       "      <td>6.05</td>\n",
       "      <td>1.10</td>\n",
       "      <td>1,725.00</td>\n",
       "      <td>3.28</td>\n",
       "      <td>37.71</td>\n",
       "      <td>-118.01</td>\n",
       "      <td>2.65</td>\n",
       "    </tr>\n",
       "    <tr>\n",
       "      <th>max</th>\n",
       "      <td>15.00</td>\n",
       "      <td>52.00</td>\n",
       "      <td>141.91</td>\n",
       "      <td>34.07</td>\n",
       "      <td>35,682.00</td>\n",
       "      <td>1,243.33</td>\n",
       "      <td>41.95</td>\n",
       "      <td>-114.31</td>\n",
       "      <td>5.00</td>\n",
       "    </tr>\n",
       "  </tbody>\n",
       "</table>\n",
       "</div>"
      ],
      "text/plain": [
       "              0         1         2         3         4         5         6  \\\n",
       "count 20,640.00 20,640.00 20,640.00 20,640.00 20,640.00 20,640.00 20,640.00   \n",
       "mean       3.87     28.64      5.43      1.10  1,425.48      3.07     35.63   \n",
       "std        1.90     12.59      2.47      0.47  1,132.46     10.39      2.14   \n",
       "min        0.50      1.00      0.85      0.33      3.00      0.69     32.54   \n",
       "25%        2.56     18.00      4.44      1.01    787.00      2.43     33.93   \n",
       "50%        3.53     29.00      5.23      1.05  1,166.00      2.82     34.26   \n",
       "75%        4.74     37.00      6.05      1.10  1,725.00      3.28     37.71   \n",
       "max       15.00     52.00    141.91     34.07 35,682.00  1,243.33     41.95   \n",
       "\n",
       "              7     Price  \n",
       "count 20,640.00 20,640.00  \n",
       "mean    -119.57      2.07  \n",
       "std        2.00      1.15  \n",
       "min     -124.35      0.15  \n",
       "25%     -121.80      1.20  \n",
       "50%     -118.49      1.80  \n",
       "75%     -118.01      2.65  \n",
       "max     -114.31      5.00  "
      ]
     },
     "execution_count": 87,
     "metadata": {},
     "output_type": "execute_result"
    }
   ],
   "source": [
    "pd.options.display.float_format = '{:,.2f}'.format # Limit output to fewer decimal places\n",
    "df.describe()"
   ]
  },
  {
   "cell_type": "markdown",
   "metadata": {},
   "source": [
    "#### Let's see how related the features are to each other . . . "
   ]
  },
  {
   "cell_type": "code",
   "execution_count": 8,
   "metadata": {},
   "outputs": [
    {
     "data": {
      "text/plain": [
       "Text(0.5, 1, 'Correlation Matrix Heatmap of Independent Features')"
      ]
     },
     "execution_count": 8,
     "metadata": {},
     "output_type": "execute_result"
    },
    {
     "data": {
      "image/png": "[encoded data removed]",
      "text/plain": [
       "<Figure size 792x648 with 2 Axes>"
      ]
     },
     "metadata": {
      "needs_background": "light"
     },
     "output_type": "display_data"
    }
   ],
   "source": [
    "# Generate a correlation matrix function and assign it\n",
    "corr = df.corr()\n",
    "\n",
    "# To remove redundant output, generate an upper triangle mask \n",
    "mask = np.zeros_like(corr, dtype=np.bool)\n",
    "mask[np.triu_indices_from(mask)] = True\n",
    "\n",
    "# Set up the matplotlib figure\n",
    "f, ax = plt.subplots(figsize=(11, 9))\n",
    "\n",
    "# Generate a custom diverging colormap\n",
    "cmap = sns.diverging_palette(220, 10, as_cmap=True)\n",
    "\n",
    "# Draw the heatmap with the mask, correct aspect ratio and Spectral color theme\n",
    "sns.heatmap(corr, mask=mask, cmap='Spectral', vmax=.3, center=0, annot_kws={\"size\": 14}, \n",
    "            square=True, annot=True, linewidths=.5, cbar_kws={\"shrink\": .7})\n",
    "\n",
    "# Make it readable and nice\n",
    "plt.yticks(rotation=0, fontweight='bold', fontsize=14)\n",
    "plt.xticks(fontweight='bold', fontsize=14)\n",
    "plt.title('Correlation Matrix Heatmap of Independent Features'\n",
    "          , fontweight='bold', fontsize=15,color='k')"
   ]
  },
  {
   "cell_type": "markdown",
   "metadata": {},
   "source": [
    "#### The second to last to variable, labelled 6 or Latitude, is inversely related to 7 of Longitude, and there is tandem movement of 2 and 3, AveRooms and AveBedrms.  Common knowledge can accept Latitude and Longitude are opposites and the number of rooms and bedrooms are related in some fashion.  The rest of the features do not have an association as the correlation values are near zero.\n",
    "\n",
    "#### We will see further below, how this will play a role in improving our model score."
   ]
  },
  {
   "cell_type": "code",
   "execution_count": 74,
   "metadata": {},
   "outputs": [
    {
     "data": {
      "text/html": [
       "<div>\n",
       "<style scoped>\n",
       "    .dataframe tbody tr th:only-of-type {\n",
       "        vertical-align: middle;\n",
       "    }\n",
       "\n",
       "    .dataframe tbody tr th {\n",
       "        vertical-align: top;\n",
       "    }\n",
       "\n",
       "    .dataframe thead th {\n",
       "        text-align: right;\n",
       "    }\n",
       "</style>\n",
       "<table border=\"1\" class=\"dataframe\">\n",
       "  <thead>\n",
       "    <tr style=\"text-align: right;\">\n",
       "      <th></th>\n",
       "      <th>0</th>\n",
       "      <th>1</th>\n",
       "      <th>2</th>\n",
       "      <th>3</th>\n",
       "      <th>4</th>\n",
       "      <th>5</th>\n",
       "      <th>6</th>\n",
       "      <th>7</th>\n",
       "      <th>Price</th>\n",
       "    </tr>\n",
       "  </thead>\n",
       "  <tbody>\n",
       "    <tr>\n",
       "      <th>0</th>\n",
       "      <td>8.33</td>\n",
       "      <td>41.00</td>\n",
       "      <td>6.98</td>\n",
       "      <td>1.02</td>\n",
       "      <td>322.00</td>\n",
       "      <td>2.56</td>\n",
       "      <td>37.88</td>\n",
       "      <td>-122.23</td>\n",
       "      <td>4.53</td>\n",
       "    </tr>\n",
       "    <tr>\n",
       "      <th>1</th>\n",
       "      <td>8.30</td>\n",
       "      <td>21.00</td>\n",
       "      <td>6.24</td>\n",
       "      <td>0.97</td>\n",
       "      <td>2,401.00</td>\n",
       "      <td>2.11</td>\n",
       "      <td>37.86</td>\n",
       "      <td>-122.22</td>\n",
       "      <td>3.58</td>\n",
       "    </tr>\n",
       "    <tr>\n",
       "      <th>2</th>\n",
       "      <td>7.26</td>\n",
       "      <td>52.00</td>\n",
       "      <td>8.29</td>\n",
       "      <td>1.07</td>\n",
       "      <td>496.00</td>\n",
       "      <td>2.80</td>\n",
       "      <td>37.85</td>\n",
       "      <td>-122.24</td>\n",
       "      <td>3.52</td>\n",
       "    </tr>\n",
       "  </tbody>\n",
       "</table>\n",
       "</div>"
      ],
      "text/plain": [
       "     0     1    2    3        4    5     6       7  Price\n",
       "0 8.33 41.00 6.98 1.02   322.00 2.56 37.88 -122.23   4.53\n",
       "1 8.30 21.00 6.24 0.97 2,401.00 2.11 37.86 -122.22   3.58\n",
       "2 7.26 52.00 8.29 1.07   496.00 2.80 37.85 -122.24   3.52"
      ]
     },
     "execution_count": 74,
     "metadata": {},
     "output_type": "execute_result"
    }
   ],
   "source": [
    "# create target variable to set up for multi-factor modeling\n",
    "df['Price'] = cal_housing.target\n",
    "df.head(3)"
   ]
  },
  {
   "cell_type": "markdown",
   "metadata": {},
   "source": [
    "## Short Explanation of Support Vector Regression Model\n",
    "\n",
    "One of many, multi-factor models, is the Support Vector Machine (SVM) framework.  Briefly, a single dataset with different attributes is split into two subsets by an optimal line with the only the widest margins drawn to separate both sides of data.  Specifically, the drawn line has the furthest distance between the two subsets of data and the margins are decision boundaries.  The support vectors are data points on the margins that treat the rest of the data points off margin by optimizing and honoring constraints.  No data points are removed or data values changed as the properties of distance and magnitude are favorable in a non - parametric approach, including space transformation.\n",
    "\n",
    "Mathematically, this is called a linear separable dataset as the split line is a hyperplane followed by LaGrangian multipliers that optimize the datasets and dependent on the linear sum of the sample set.  Also, if not linear separable, then there is a transformation of space from 2 dimensional feature space to 3 dimensional feature space.  The original paper that started this, is below.\n",
    "\n",
    "http://image.diku.dk/imagecanon/material/cortes_vapnik95.pdf\n",
    "\n",
    "An extension of SVM is the support vector regression (SVR).\n",
    "\n",
    "\n",
    "## Split train-test dataset\n",
    "\n",
    "#### Split the dataset into two for training and testing with a target value, y, and a set of predictor values, X. \n",
    "\n",
    "#### Y = California Housing Price\n",
    "\n",
    "#### X = All other features"
   ]
  },
  {
   "cell_type": "code",
   "execution_count": 75,
   "metadata": {},
   "outputs": [],
   "source": [
    "X = df.drop('Price', axis = 1)"
   ]
  },
  {
   "cell_type": "code",
   "execution_count": 76,
   "metadata": {},
   "outputs": [],
   "source": [
    "Y = df['Price']"
   ]
  },
  {
   "cell_type": "code",
   "execution_count": 77,
   "metadata": {},
   "outputs": [
    {
     "name": "stdout",
     "output_type": "stream",
     "text": [
      "(13828, 8)\n",
      "(6812, 8)\n",
      "(13828,)\n",
      "(6812,)\n"
     ]
    }
   ],
   "source": [
    "X_train, X_test, Y_train, Y_test = train_test_split(X, Y, test_size = 0.33, random_state = 5)\n",
    "\n",
    "print(X_train.shape)\n",
    "\n",
    "print(X_test.shape)\n",
    "\n",
    "print(Y_train.shape)\n",
    "\n",
    "print(Y_test.shape)"
   ]
  },
  {
   "cell_type": "markdown",
   "metadata": {},
   "source": [
    "#### Implement by fitting and scoring the SVR model with our dataset"
   ]
  },
  {
   "cell_type": "code",
   "execution_count": 78,
   "metadata": {},
   "outputs": [],
   "source": [
    "clf = svm.SVR()"
   ]
  },
  {
   "cell_type": "code",
   "execution_count": 79,
   "metadata": {},
   "outputs": [
    {
     "data": {
      "text/plain": [
       "SVR(C=1.0, cache_size=200, coef0=0.0, degree=3, epsilon=0.1,\n",
       "  gamma='auto_deprecated', kernel='rbf', max_iter=-1, shrinking=True,\n",
       "  tol=0.001, verbose=False)"
      ]
     },
     "execution_count": 79,
     "metadata": {},
     "output_type": "execute_result"
    }
   ],
   "source": [
    "clf.fit(X, y) "
   ]
  },
  {
   "cell_type": "code",
   "execution_count": 80,
   "metadata": {},
   "outputs": [
    {
     "data": {
      "text/plain": [
       "0.7506287852385003"
      ]
     },
     "execution_count": 80,
     "metadata": {},
     "output_type": "execute_result"
    }
   ],
   "source": [
    "clf.score(X,y)"
   ]
  },
  {
   "cell_type": "markdown",
   "metadata": {},
   "source": [
    "#### Just like MLR, in SVR, we have a goodness of fit measure, the score.  A 0.75 is good as 1.00 would indicate overfitting or the unnessary capture of data noise that would effect our prediction.  Another way to understand the score, is the percentage of the variance in the target variable that is explained by the set of 8 features, collectively . . . or how much do the features explain the target price of housing in California.\n",
    "\n",
    "### Improving the Support Vector Regression with a Check on Multicollinearity\n",
    "\n",
    "#### One way of feature evalution is to score each of them, in terms of their correlation to other features. Multicollinearity or Collinearity occurs when two features trying to explain the target variable contain redundant information about the variance of a give dataset so we can remove them from the feature dataset. \n",
    "\n",
    "#### Variance Inflation Factor is one method to check Multicollinearity and it is the complements reciprocal of the score or 1 / (1 - R squared)."
   ]
  },
  {
   "cell_type": "code",
   "execution_count": 81,
   "metadata": {},
   "outputs": [
    {
     "data": {
      "text/html": [
       "<div>\n",
       "<style scoped>\n",
       "    .dataframe tbody tr th:only-of-type {\n",
       "        vertical-align: middle;\n",
       "    }\n",
       "\n",
       "    .dataframe tbody tr th {\n",
       "        vertical-align: top;\n",
       "    }\n",
       "\n",
       "    .dataframe thead th {\n",
       "        text-align: right;\n",
       "    }\n",
       "</style>\n",
       "<table border=\"1\" class=\"dataframe\">\n",
       "  <thead>\n",
       "    <tr style=\"text-align: right;\">\n",
       "      <th></th>\n",
       "      <th>VIF Factor</th>\n",
       "      <th>features</th>\n",
       "    </tr>\n",
       "  </thead>\n",
       "  <tbody>\n",
       "    <tr>\n",
       "      <th>0</th>\n",
       "      <td>11.50</td>\n",
       "      <td>0</td>\n",
       "    </tr>\n",
       "    <tr>\n",
       "      <th>1</th>\n",
       "      <td>7.20</td>\n",
       "      <td>1</td>\n",
       "    </tr>\n",
       "    <tr>\n",
       "      <th>2</th>\n",
       "      <td>46.00</td>\n",
       "      <td>2</td>\n",
       "    </tr>\n",
       "    <tr>\n",
       "      <th>3</th>\n",
       "      <td>43.60</td>\n",
       "      <td>3</td>\n",
       "    </tr>\n",
       "    <tr>\n",
       "      <th>4</th>\n",
       "      <td>2.90</td>\n",
       "      <td>4</td>\n",
       "    </tr>\n",
       "    <tr>\n",
       "      <th>5</th>\n",
       "      <td>1.10</td>\n",
       "      <td>5</td>\n",
       "    </tr>\n",
       "    <tr>\n",
       "      <th>6</th>\n",
       "      <td>559.90</td>\n",
       "      <td>6</td>\n",
       "    </tr>\n",
       "    <tr>\n",
       "      <th>7</th>\n",
       "      <td>633.70</td>\n",
       "      <td>7</td>\n",
       "    </tr>\n",
       "  </tbody>\n",
       "</table>\n",
       "</div>"
      ],
      "text/plain": [
       "   VIF Factor features\n",
       "0       11.50        0\n",
       "1        7.20        1\n",
       "2       46.00        2\n",
       "3       43.60        3\n",
       "4        2.90        4\n",
       "5        1.10        5\n",
       "6      559.90        6\n",
       "7      633.70        7"
      ]
     },
     "execution_count": 81,
     "metadata": {},
     "output_type": "execute_result"
    }
   ],
   "source": [
    "#  Compute VIF for each feature \n",
    "vif = pd.DataFrame()\n",
    "vif[\"VIF Factor\"] = [variance_inflation_factor(X.values, i) for i in range(X.shape[1])]\n",
    "vif[\"features\"] = X.columns\n",
    "vif.round(1)"
   ]
  },
  {
   "cell_type": "markdown",
   "metadata": {},
   "source": [
    "#### Consistent with our Correlation Matrix Heatmap in Exploratory Data Analysis, we have 1, 4 and 5, HouseAge, Population and AveOccup are not correlated as they are less than 10.  Greater than 10 we have  AveRooms and AveBedrms, 2 and 3, respectively, with some correlation, but there is multicollinearity in the last two features.  \n",
    "\n",
    "#### Let's drop 6 and 7, Latitude and Longitude, as they are paired features and re-run SVR."
   ]
  },
  {
   "cell_type": "code",
   "execution_count": 82,
   "metadata": {},
   "outputs": [],
   "source": [
    "df2 = df.drop([6,7], axis=1)"
   ]
  },
  {
   "cell_type": "markdown",
   "metadata": {},
   "source": [
    "#### Reassign the X variable as X2"
   ]
  },
  {
   "cell_type": "code",
   "execution_count": 83,
   "metadata": {},
   "outputs": [],
   "source": [
    "X2 = df2"
   ]
  },
  {
   "cell_type": "markdown",
   "metadata": {},
   "source": [
    "#### No need to change the target variable y, Calfornia Median Housing Price\n",
    "\n",
    "#### Implement again by fitting and scoring the SVR model with new dataset X2\n"
   ]
  },
  {
   "cell_type": "code",
   "execution_count": 84,
   "metadata": {},
   "outputs": [],
   "source": [
    "clf = svm.SVR()"
   ]
  },
  {
   "cell_type": "code",
   "execution_count": 85,
   "metadata": {},
   "outputs": [
    {
     "data": {
      "text/plain": [
       "SVR(C=1.0, cache_size=200, coef0=0.0, degree=3, epsilon=0.1,\n",
       "  gamma='auto_deprecated', kernel='rbf', max_iter=-1, shrinking=True,\n",
       "  tol=0.001, verbose=False)"
      ]
     },
     "execution_count": 85,
     "metadata": {},
     "output_type": "execute_result"
    }
   ],
   "source": [
    "clf.fit(X2, y) "
   ]
  },
  {
   "cell_type": "code",
   "execution_count": 86,
   "metadata": {},
   "outputs": [
    {
     "data": {
      "text/plain": [
       "0.8304411489549803"
      ]
     },
     "execution_count": 86,
     "metadata": {},
     "output_type": "execute_result"
    }
   ],
   "source": [
    "clf.score(X2,y)"
   ]
  },
  {
   "cell_type": "markdown",
   "metadata": {},
   "source": [
    "#### We have an improvement of the goodness of fit by about 8 points. "
   ]
  },
  {
   "cell_type": "code",
   "execution_count": null,
   "metadata": {},
   "outputs": [],
   "source": []
  }
 ],
 "metadata": {
  "kernelspec": {
   "display_name": "Python 3",
   "language": "python",
   "name": "python3"
  },
  "language_info": {
   "codemirror_mode": {
    "name": "ipython",
    "version": 3
   },
   "file_extension": ".py",
   "mimetype": "text/x-python",
   "name": "python",
   "nbconvert_exporter": "python",
   "pygments_lexer": "ipython3",
   "version": "3.7.2"
  }
 },
 "nbformat": 4,
 "nbformat_minor": 2
}
